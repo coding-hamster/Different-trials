{
 "cells": [
  {
   "cell_type": "code",
   "execution_count": null,
   "metadata": {},
   "outputs": [],
   "source": [
    "import numpy as np # linear algebra\n",
    "import pandas as pd # data processing, CSV file I/O (e.g. pd.read_csv)\n",
    "\n",
    "# Input data files are available in the \"../input/\" directory.\n",
    "# For example, running this (by clicking run or pressing Shift+Enter) will list the files in the input directory\n",
    "\n",
    "import os\n",
    "print(os.listdir(\"../input\"))\n",
    "\n",
    "# Any results you write to the current directory are saved as output.\n",
    "import pandas as pd\n",
    "import numpy as np\n",
    "from nltk.corpus import stopwords\n",
    "import string\n",
    "from sklearn.ensemble import RandomForestClassifier\n",
    "from sklearn.metrics import accuracy_score\n",
    "from time import time\n",
    "from sklearn.model_selection import train_test_split\n",
    "import re\n",
    "from sklearn.decomposition import TruncatedSVD\n",
    "from sklearn.feature_extraction.text import TfidfVectorizer\n",
    "from sklearn.model_selection import GridSearchCV\n",
    "from sklearn.feature_extraction.text import CountVectorizer\n",
    "from sklearn.ensemble import ExtraTreesClassifier"
   ]
  },
  {
   "cell_type": "code",
   "execution_count": null,
   "metadata": {},
   "outputs": [],
   "source": [
    "df_train = pd.read_csv('../input//train.csv')\n",
    "df_test = pd.read_csv('../input//test.csv')"
   ]
  },
  {
   "cell_type": "code",
   "execution_count": null,
   "metadata": {},
   "outputs": [],
   "source": [
    "sw = stopwords.words('english')\n",
    "for i in sw:\n",
    "    df_train['new_name'] = df_train['question_text'].replace(i, '')\n",
    "pattern = r\"\\d+.\"\n",
    "df_train['new_name'] = df_train['new_name'].str.replace(pattern, '')\n",
    "df_head_train = df_train.head(n=5)"
   ]
  },
  {
   "cell_type": "code",
   "execution_count": null,
   "metadata": {},
   "outputs": [],
   "source": [
    "features_train, features_test, labels_train, labels_test = train_test_split(df_train['new_name'], df_train['target'], test_size=0.3, random_state=42)\n",
    "vectorizer = TfidfVectorizer(sublinear_tf=False)\n",
    "features_train_transformed = vectorizer.fit_transform(features_train)\n",
    "features_test_transformed = vectorizer.transform(features_test)"
   ]
  },
  {
   "cell_type": "code",
   "execution_count": null,
   "metadata": {},
   "outputs": [],
   "source": [
    "n_components = 100\n",
    "pca = TruncatedSVD(n_components=n_components, random_state=42, n_iter=10).fit(features_train_transformed)\n",
    "\n",
    "X_train_pca = pca.transform(features_train_transformed)\n",
    "X_test_pca = pca.transform(features_test_transformed)"
   ]
  },
  {
   "cell_type": "code",
   "execution_count": null,
   "metadata": {},
   "outputs": [],
   "source": [
    "clf = ExtraTreesClassifier(n_estimators=150, criterion='gini',random_state=42)\n",
    "clf.fit(X_train_pca, labels_train)\n",
    "predicted_values_0 = clf.predict(X_test_pca)\n",
    "accuracy = accuracy_score(labels_test, predicted_values_0)\n",
    "features_test_transformed_submission = vectorizer.transform(df_test.question_text)\n",
    "X_test_pca_submission = pca.transform(features_test_transformed_submission)\n",
    "predicted_values_for_submission = clf.predict(X_test_pca_submission)"
   ]
  },
  {
   "cell_type": "code",
   "execution_count": null,
   "metadata": {},
   "outputs": [],
   "source": [
    "submisiion = pd.DataFrame({'qid':df_test.qid, 'prediction': predicted_values_for_submission}, columns=['qid', 'prediction'])\n",
    "submisiion.to_csv('submission.csv', index=False)"
   ]
  }
 ],
 "metadata": {
  "kernelspec": {
   "display_name": "Python 3",
   "language": "python",
   "name": "python3"
  },
  "language_info": {
   "codemirror_mode": {
    "name": "ipython",
    "version": 3
   },
   "file_extension": ".py",
   "mimetype": "text/x-python",
   "name": "python",
   "nbconvert_exporter": "python",
   "pygments_lexer": "ipython3",
   "version": "3.7.3"
  }
 },
 "nbformat": 4,
 "nbformat_minor": 2
}
